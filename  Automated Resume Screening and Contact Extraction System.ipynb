{
 "cells": [
  {
   "cell_type": "markdown",
   "id": "0d414b68",
   "metadata": {},
   "source": [
    "<div align=\"center\">\n",
    "  <h1 style=\"font-size: 28px; font-weight: bold;\">Automated Resume Screening and Contact Extraction System</h1>\n",
    "</div>"
   ]
  },
  {
   "cell_type": "markdown",
   "id": "e5b76ae5",
   "metadata": {},
   "source": [
    "<div style=\"background-color: #f5f5f5; padding: 20px; border-radius: 5px; font-weight: bold; font-size: 18px;\">\n",
    "\n",
    "**Problem Statement:**\n",
    "\n",
    "In the dynamic and competitive field of recruitment, job recruiters are often overwhelmed with a large volume of resumes from prospective candidates. Identifying the most suitable candidates for specific job positions and efficiently reaching out to them is a time-consuming and resource-intensive process. There is a critical need for a streamlined solution that not only automates the resume screening process but also facilitates direct communication with selected candidates.\n",
    "\n",
    "</div>\n"
   ]
  },
  {
   "cell_type": "markdown",
   "id": "db6fa9c3",
   "metadata": {},
   "source": [
    "### Model Building:"
   ]
  },
  {
   "cell_type": "code",
   "execution_count": 1,
   "id": "e997af5e",
   "metadata": {},
   "outputs": [],
   "source": [
    "import os\n",
    "import numpy as np\n",
    "import tensorflow as tf\n",
    "from tensorflow.keras.preprocessing.text import Tokenizer\n",
    "from tensorflow.keras.preprocessing.sequence import pad_sequences\n",
    "from sklearn.model_selection import train_test_split\n",
    "import pdfplumber\n",
    "from sklearn.metrics import confusion_matrix, classification_report"
   ]
  },
  {
   "cell_type": "code",
   "execution_count": 2,
   "id": "1ae4e7b1",
   "metadata": {},
   "outputs": [],
   "source": [
    "dataset_path = \"/Users/suka/Downloads/AICapstone 2\"\n",
    "text_data = []\n",
    "label_data = []"
   ]
  },
  {
   "cell_type": "code",
   "execution_count": 3,
   "id": "104f7566",
   "metadata": {},
   "outputs": [],
   "source": [
    "for resume_folder in os.listdir(dataset_path):\n",
    "    if os.path.isdir(os.path.join(dataset_path, resume_folder)):\n",
    "        with pdfplumber.open(os.path.join(dataset_path, resume_folder, \"resume.pdf\")) as pdf:\n",
    "            pdf_text = \"\"\n",
    "            for page in pdf.pages:\n",
    "                pdf_text += page.extract_text()\n",
    "            text_data.append(pdf_text.strip())\n",
    "        \n",
    "        with open(os.path.join(dataset_path, resume_folder, \"labels.txt\"), \"r\") as f:\n",
    "            labels = f.read().strip().split(\"\\n\")\n",
    "            label_data.append(labels)\n",
    "\n",
    "tokenizer = Tokenizer(oov_token=\"<OOV>\")\n",
    "tokenizer.fit_on_texts(text_data)\n",
    "vocab_size = len(tokenizer.word_index) + 1"
   ]
  },
  {
   "cell_type": "code",
   "execution_count": 4,
   "id": "bfcb217f",
   "metadata": {},
   "outputs": [],
   "source": [
    "label_encoder = {\n",
    "    \"O\": 0, \"B-PERSON\": 1, \"I-PERSON\": 2,\n",
    "    \"B-ADDRESS\": 3, \"I-ADDRESS\": 4,\n",
    "    \"B-PHONE\": 5, \"I-PHONE\": 6,\n",
    "    \"B-EMAIL\": 7, \"I-EMAIL\": 8\n",
    "}\n",
    "\n",
    "\n",
    "encoded_labels = []"
   ]
  },
  {
   "cell_type": "code",
   "execution_count": 5,
   "id": "c8149cf8",
   "metadata": {},
   "outputs": [
    {
     "name": "stdout",
     "output_type": "stream",
     "text": [
      "Epoch 1/10\n",
      "1/1 [==============================] - 2s 2s/step - loss: 2.2353 - accuracy: 0.0194 - val_loss: 2.1383 - val_accuracy: 0.9461\n",
      "Epoch 2/10\n",
      "1/1 [==============================] - 1s 749ms/step - loss: 2.1395 - accuracy: 0.9407 - val_loss: 2.0380 - val_accuracy: 0.9864\n",
      "Epoch 3/10\n",
      "1/1 [==============================] - 1s 732ms/step - loss: 2.0415 - accuracy: 0.9867 - val_loss: 1.9228 - val_accuracy: 0.9868\n",
      "Epoch 4/10\n",
      "1/1 [==============================] - 1s 724ms/step - loss: 1.9288 - accuracy: 0.9873 - val_loss: 1.7769 - val_accuracy: 0.9868\n",
      "Epoch 5/10\n",
      "1/1 [==============================] - 1s 716ms/step - loss: 1.7860 - accuracy: 0.9873 - val_loss: 1.5762 - val_accuracy: 0.9868\n",
      "Epoch 6/10\n",
      "1/1 [==============================] - 1s 735ms/step - loss: 1.5892 - accuracy: 0.9873 - val_loss: 1.2785 - val_accuracy: 0.9868\n",
      "Epoch 7/10\n",
      "1/1 [==============================] - 1s 736ms/step - loss: 1.2969 - accuracy: 0.9873 - val_loss: 0.8431 - val_accuracy: 0.9868\n",
      "Epoch 8/10\n",
      "1/1 [==============================] - 1s 785ms/step - loss: 0.8677 - accuracy: 0.9873 - val_loss: 0.4322 - val_accuracy: 0.9868\n",
      "Epoch 9/10\n",
      "1/1 [==============================] - 1s 769ms/step - loss: 0.4507 - accuracy: 0.9873 - val_loss: 0.0943 - val_accuracy: 0.9868\n",
      "Epoch 10/10\n",
      "1/1 [==============================] - 1s 768ms/step - loss: 0.0924 - accuracy: 0.9873 - val_loss: 0.0574 - val_accuracy: 0.9868\n"
     ]
    },
    {
     "data": {
      "text/plain": [
       "<keras.src.callbacks.History at 0x15d544790>"
      ]
     },
     "execution_count": 5,
     "metadata": {},
     "output_type": "execute_result"
    }
   ],
   "source": [
    "for labels in label_data:\n",
    "    processed_labels = [label_encoder[label.split()[1]] for label in labels]\n",
    "    encoded_labels.append(processed_labels)\n",
    "\n",
    "\n",
    "max_seq_length = max([len(seq) for seq in tokenizer.texts_to_sequences(text_data)])\n",
    "for i in range(len(encoded_labels)):\n",
    "    while len(encoded_labels[i]) < max_seq_length:\n",
    "        encoded_labels[i].append(0)  \n",
    "\n",
    "y_train_array = np.array(encoded_labels, dtype=np.int32)\n",
    "\n",
    "\n",
    "max_seq_length = max([len(seq) for seq in tokenizer.texts_to_sequences(text_data)])\n",
    "padded_sequences = pad_sequences(tokenizer.texts_to_sequences(text_data), maxlen=max_seq_length, padding=\"post\")\n",
    "\n",
    "\n",
    "X_train, X_val, y_train, y_val = train_test_split(padded_sequences, y_train_array, test_size=0.2, random_state=42)\n",
    "\n",
    "\n",
    "model = tf.keras.Sequential([\n",
    "    tf.keras.layers.Embedding(vocab_size, 128, input_length=max_seq_length),\n",
    "    tf.keras.layers.Bidirectional(tf.keras.layers.LSTM(128, return_sequences=True)),\n",
    "    tf.keras.layers.Dense(len(label_encoder), activation=\"softmax\")\n",
    "])\n",
    "\n",
    "model.compile(loss=\"sparse_categorical_crossentropy\", optimizer=\"adam\", metrics=[\"accuracy\"])\n",
    "\n",
    "model.fit(X_train, y_train, validation_data=(X_val, y_val), epochs=10, batch_size=32)\n"
   ]
  },
  {
   "cell_type": "code",
   "execution_count": 12,
   "id": "0b784180",
   "metadata": {},
   "outputs": [
    {
     "name": "stdout",
     "output_type": "stream",
     "text": [
      "INFO:tensorflow:Assets written to: /Users/suka/Downloads/Resume_deployment/assets\n"
     ]
    },
    {
     "name": "stderr",
     "output_type": "stream",
     "text": [
      "INFO:tensorflow:Assets written to: /Users/suka/Downloads/Resume_deployment/assets\n"
     ]
    }
   ],
   "source": [
    "model.save('/Users/suka/Downloads/Resume_deployment')"
   ]
  },
  {
   "cell_type": "markdown",
   "id": "45a5bf01",
   "metadata": {},
   "source": [
    "### Model Evaluation:"
   ]
  },
  {
   "cell_type": "code",
   "execution_count": 6,
   "id": "fe970c25",
   "metadata": {},
   "outputs": [
    {
     "name": "stdout",
     "output_type": "stream",
     "text": [
      "1/1 [==============================] - 0s 125ms/step - loss: 0.0574 - accuracy: 0.9868\n",
      "Validation Loss: 0.0574, Validation Accuracy: 0.9868\n"
     ]
    }
   ],
   "source": [
    "loss, accuracy = model.evaluate(X_val, y_val)\n",
    "print(f\"Validation Loss: {loss:.4f}, Validation Accuracy: {accuracy:.4f}\")"
   ]
  },
  {
   "cell_type": "code",
   "execution_count": 7,
   "id": "06440b95",
   "metadata": {},
   "outputs": [
    {
     "name": "stdout",
     "output_type": "stream",
     "text": [
      "1/1 [==============================] - 0s 328ms/step\n",
      "Confusion Matrix:\n",
      "[[8006    0    0    0    0    0    0    0    0]\n",
      " [   7    0    0    0    0    0    0    0    0]\n",
      " [  10    0    0    0    0    0    0    0    0]\n",
      " [   4    0    0    0    0    0    0    0    0]\n",
      " [  36    0    0    0    0    0    0    0    0]\n",
      " [   7    0    0    0    0    0    0    0    0]\n",
      " [  14    0    0    0    0    0    0    0    0]\n",
      " [   7    0    0    0    0    0    0    0    0]\n",
      " [  22    0    0    0    0    0    0    0    0]]\n",
      "Classification Report:\n",
      "              precision    recall  f1-score   support\n",
      "\n",
      "           0       0.99      1.00      0.99      8006\n",
      "           1       0.00      0.00      0.00         7\n",
      "           2       0.00      0.00      0.00        10\n",
      "           3       0.00      0.00      0.00         4\n",
      "           4       0.00      0.00      0.00        36\n",
      "           5       0.00      0.00      0.00         7\n",
      "           6       0.00      0.00      0.00        14\n",
      "           7       0.00      0.00      0.00         7\n",
      "           8       0.00      0.00      0.00        22\n",
      "\n",
      "    accuracy                           0.99      8113\n",
      "   macro avg       0.11      0.11      0.11      8113\n",
      "weighted avg       0.97      0.99      0.98      8113\n",
      "\n"
     ]
    },
    {
     "name": "stderr",
     "output_type": "stream",
     "text": [
      "/Users/suka/anaconda3/lib/python3.10/site-packages/sklearn/metrics/_classification.py:1344: UndefinedMetricWarning: Precision and F-score are ill-defined and being set to 0.0 in labels with no predicted samples. Use `zero_division` parameter to control this behavior.\n",
      "  _warn_prf(average, modifier, msg_start, len(result))\n",
      "/Users/suka/anaconda3/lib/python3.10/site-packages/sklearn/metrics/_classification.py:1344: UndefinedMetricWarning: Precision and F-score are ill-defined and being set to 0.0 in labels with no predicted samples. Use `zero_division` parameter to control this behavior.\n",
      "  _warn_prf(average, modifier, msg_start, len(result))\n",
      "/Users/suka/anaconda3/lib/python3.10/site-packages/sklearn/metrics/_classification.py:1344: UndefinedMetricWarning: Precision and F-score are ill-defined and being set to 0.0 in labels with no predicted samples. Use `zero_division` parameter to control this behavior.\n",
      "  _warn_prf(average, modifier, msg_start, len(result))\n"
     ]
    }
   ],
   "source": [
    "y_pred = model.predict(X_val)\n",
    "\n",
    "y_pred_labels = np.argmax(y_pred, axis=2)\n",
    "y_val_labels = y_val\n",
    "\n",
    "confusion = confusion_matrix(y_val_labels.flatten(), y_pred_labels.flatten())\n",
    "print(\"Confusion Matrix:\")\n",
    "print(confusion)\n",
    "\n",
    "report = classification_report(y_val_labels.flatten(), y_pred_labels.flatten())\n",
    "print(\"Classification Report:\")\n",
    "print(report)"
   ]
  },
  {
   "cell_type": "markdown",
   "id": "105febd0",
   "metadata": {},
   "source": [
    "# -----------------------------------------------------------------------------------------"
   ]
  },
  {
   "cell_type": "markdown",
   "id": "70dc34a2",
   "metadata": {},
   "source": [
    "### Initializing the feild and the keywords for it:"
   ]
  },
  {
   "cell_type": "code",
   "execution_count": 8,
   "id": "8faa7cd4",
   "metadata": {},
   "outputs": [],
   "source": [
    "skill_keywords_dict = {\n",
    "    \"Data Science\": {\n",
    "    \"machine learning\": 0.8,\n",
    "    \"Python\": 0.7,\n",
    "    \"data analysis\": 0.6,\n",
    "    \"statistical modeling\": 0.5,\n",
    "    \"deep learning\": 0.7,\n",
    "    \"data visualization\": 0.6,\n",
    "    \"SQL\": 0.5,\n",
    "    \"R\": 0.4,\n",
    "    \"big data\": 0.6,\n",
    "    \"natural language processing\": 0.7,\n",
    "    \"data mining\": 0.6,\n",
    "    \"data cleansing\": 0.5,\n",
    "    \"feature engineering\": 0.6,\n",
    "    \"time series analysis\": 0.6,\n",
    "    \"predictive modeling\": 0.7,\n",
    "    \"data preprocessing\": 0.5,\n",
    "    \"Hadoop\": 0.4,\n",
    "    \"Spark\": 0.4,\n",
    "},\n",
    "    \"Software Developer\":{\n",
    "    \"programming\": 0.8,\n",
    "    \"Java\": 0.7,\n",
    "    \"C++\": 0.6,\n",
    "    \"software development\": 0.7,\n",
    "    \"coding\": 0.6,\n",
    "    \"algorithm\": 0.6,\n",
    "    \"web development\": 0.5,\n",
    "    \"debugging\": 0.5,\n",
    "    \"API\": 0.4,\n",
    "    \"software engineering\": 0.7,\n",
    "    \"agile methodology\": 0.6,\n",
    "    \"version control\": 0.6,\n",
    "    \"object-oriented programming\": 0.7,\n",
    "    \"unit testing\": 0.6,\n",
    "    \"database management\": 0.5,\n",
    "    \"cloud computing\": 0.5,\n",
    "    \"continuous integration\": 0.6,\n",
    "    \"problem-solving\": 0.7,\n",
    "} ,\n",
    "    \"Cybersecurity\": {\n",
    "    \"cybersecurity\": 0.8,\n",
    "    \"network security\": 0.7,\n",
    "    \"firewall\": 0.6,\n",
    "    \"penetration testing\": 0.7,\n",
    "    \"incident response\": 0.6,\n",
    "    \"security audit\": 0.5,\n",
    "    \"vulnerability assessment\": 0.5,\n",
    "    \"encryption\": 0.4,\n",
    "    \"ethical hacking\": 0.7,\n",
    "    \"SIEM (Security Information and Event Management)\": 0.6,\n",
    "    \"threat intelligence\": 0.6,\n",
    "    \"identity and access management\": 0.6,\n",
    "    \"cybersecurity policies\": 0.5,\n",
    "    \"risk management\": 0.5,\n",
    "    \"security awareness training\": 0.4,\n",
    "    \"malware analysis\": 0.6,\n",
    "    \"network monitoring\": 0.7,\n",
    "},\n",
    "    \"Web Developer\": {\n",
    "    \"web development\": 0.8,\n",
    "    \"HTML\": 0.7,\n",
    "    \"CSS\": 0.6,\n",
    "    \"JavaScript\": 0.7,\n",
    "    \"front-end development\": 0.6,\n",
    "    \"back-end development\": 0.6,\n",
    "    \"React\": 0.5,\n",
    "    \"Angular\": 0.5,\n",
    "    \"Node.js\": 0.4,\n",
    "    \"responsive design\": 0.6,\n",
    "    \"RESTful API\": 0.6,\n",
    "    \"web frameworks\": 0.7,\n",
    "    \"UI/UX design\": 0.6,\n",
    "    \"cross-browser compatibility\": 0.5,\n",
    "    \"web security\": 0.5,\n",
    "    \"performance optimization\": 0.6,\n",
    "    \"version control (e.g., Git)\": 0.7,\n",
    "    \"web hosting\": 0.5,\n",
    "    \"content management systems\": 0.5,\n",
    "},\n",
    "}\n"
   ]
  },
  {
   "cell_type": "markdown",
   "id": "84d2e5d1",
   "metadata": {},
   "source": [
    "### Resume Screening:"
   ]
  },
  {
   "cell_type": "code",
   "execution_count": 9,
   "id": "99d13fbb",
   "metadata": {},
   "outputs": [],
   "source": [
    "import os\n",
    "import PyPDF2\n",
    "import spacy\n",
    "from sklearn.feature_extraction.text import CountVectorizer\n",
    "from sklearn.metrics.pairwise import cosine_similarity\n",
    "import tensorflow as tf\n",
    "from tensorflow.keras.preprocessing.text import Tokenizer\n",
    "from tensorflow.keras.preprocessing.sequence import pad_sequences\n",
    "import pdfplumber\n",
    "import re\n",
    "import ssl\n",
    "import smtplib\n",
    "from email.mime.text import MIMEText\n",
    "from email.mime.multipart import MIMEMultipart\n",
    "from email.mime.application import MIMEApplication"
   ]
  },
  {
   "cell_type": "code",
   "execution_count": 10,
   "id": "af846c3a",
   "metadata": {},
   "outputs": [],
   "source": [
    "model_path = \"/Users/suka/Downloads/Resume_deployment\"\n",
    "model = tf.keras.models.load_model(model_path)"
   ]
  },
  {
   "cell_type": "code",
   "execution_count": 11,
   "id": "2863efa0",
   "metadata": {},
   "outputs": [],
   "source": [
    "nlp = spacy.load(\"en_core_web_sm\")"
   ]
  },
  {
   "cell_type": "code",
   "execution_count": 12,
   "id": "1d21c019",
   "metadata": {},
   "outputs": [],
   "source": [
    "def extract_text_from_pdf(pdf_path):\n",
    "    text = \"\"\n",
    "    with open(pdf_path, \"rb\") as pdf_file:\n",
    "        pdf_reader = PyPDF2.PdfReader(pdf_file)\n",
    "        for page in pdf_reader.pages:\n",
    "            text += page.extract_text()\n",
    "    return text"
   ]
  },
  {
   "cell_type": "code",
   "execution_count": 13,
   "id": "32df5ddb",
   "metadata": {},
   "outputs": [],
   "source": [
    "email_regex = r'\\S+@\\S+'\n",
    "phone_regex = r'\\d{3}[-.\\s]?\\d{3}[-.\\s]?\\d{4}'\n",
    "def extract_information(text):\n",
    "    email = \"\"\n",
    "    phone = \"\"\n",
    "\n",
    "    emails = re.findall(email_regex, text)\n",
    "    phones = re.findall(phone_regex, text)\n",
    "\n",
    "    if emails:\n",
    "        email = emails[0]\n",
    "    if phones:\n",
    "        phone = phones[0]\n",
    "\n",
    "    return email, phone"
   ]
  },
  {
   "cell_type": "code",
   "execution_count": 14,
   "id": "3e1bf072",
   "metadata": {},
   "outputs": [],
   "source": [
    "def preprocess_text(text):\n",
    "    text = text.lower()  \n",
    "    doc = nlp(text)\n",
    "    tokens = [token.text for token in doc if not token.is_stop and token.is_alpha]\n",
    "    return \" \".join(tokens)"
   ]
  },
  {
   "cell_type": "code",
   "execution_count": 15,
   "id": "aac76295",
   "metadata": {},
   "outputs": [],
   "source": [
    "def calculate_similarity(job_description, resume):\n",
    "    vectorizer = CountVectorizer().fit_transform([job_description, resume])\n",
    "    vectors = vectorizer.toarray()\n",
    "    return cosine_similarity([vectors[0]], [vectors[1]])[0][0]"
   ]
  },
  {
   "cell_type": "code",
   "execution_count": 16,
   "id": "1fbce8d0",
   "metadata": {},
   "outputs": [],
   "source": [
    "def send_email(sender_email, sender_password, recipient_email, subject, message):\n",
    "    try:\n",
    "        context = ssl.create_default_context()\n",
    "        \n",
    "        with smtplib.SMTP_SSL(\"smtp.gmail.com\", 465, context=context) as server:\n",
    "            server.login(sender_email, sender_password)\n",
    "            msg = MIMEMultipart()\n",
    "            msg[\"From\"] = sender_email\n",
    "            msg[\"To\"] = recipient_email\n",
    "            msg[\"Subject\"] = subject\n",
    "            msg.attach(MIMEText(message, \"plain\"))\n",
    "\n",
    "            server.sendmail(sender_email, recipient_email, msg.as_string())\n",
    "            print(f\"Email sent to {recipient_email} successfully!\")\n",
    "\n",
    "    except Exception as e:\n",
    "        print(f\"Error sending email: {str(e)}\")"
   ]
  },
  {
   "cell_type": "code",
   "execution_count": 23,
   "id": "c18e6b75",
   "metadata": {
    "scrolled": false
   },
   "outputs": [
    {
     "name": "stdout",
     "output_type": "stream",
     "text": [
      "Select a field from [Web Developer, Data Science, Cybersecurity, Software Developer]: Data Science\n",
      "Enter the job description: Although no two days at Accenture are the same, as an Organizational Analytics (OA) Scientist in our Talent & Organization (T&O) practice, a typical day might include:  Fetching information from various sources and analyzing it to better understand people behaviors  Run numeric simulations leveraging different statistic techniques Selecting features, building and optimizing classifiers using machine learning techniques Data mining using state-of-the-art methods Processing, cleansing, and verifying the integrity of data used for analysis Doing ad-hoc analysis and presenting results in a clear manner Doing custom analytics to deliver insights to clients Contribute to authoring of Thought leadership and research papers Contribute to innovation and new product development in the people and organization analytics space  REQUIRED EXPERIENCE/ SKILLS 1 to 4 years of experience in business data analytics and research Data fluency and working knowledge of statistical methodologies Data interpretation with working knowledge of analytic models and digital tools (coding experience desirable) Fluency in English  Ability to perform in a non-structured and dynamic environment Desirable: Code (e.g., Python, R, SAS) developer experience, including writing and testing code, debugging programs and integrating applications with third-party web services\n",
      "Enter the folder path containing resumes: /Users/suka/Downloads/AICapstone\n",
      "Enter the number of top matching resumes to select: 5\n",
      "Enter your email address (sender): sudthirkarthikeyan24@gmail.com\n",
      "Enter the email subject: Congratulations! You've Advanced to the Next Round\n",
      "Enter the email message: We are pleased to inform you that you have been selected to advance to the next round of our recruitment process for the [Job Position] at [Company Name]. Your resume stood out among the many applications we received, and we are impressed with your qualifications.  In the next round, you can expect [details about the next steps in the recruitment process]. Our team will be in touch with you shortly to provide more information and to schedule the next interview.  Once again, congratulations on your achievement, and we look forward to getting to know you better in the upcoming rounds.\n",
      "1/1 [==============================] - 0s 36ms/step\n",
      "1/1 [==============================] - 0s 29ms/step\n",
      "1/1 [==============================] - 0s 29ms/step\n",
      "1/1 [==============================] - 0s 30ms/step\n",
      "1/1 [==============================] - 0s 29ms/step\n",
      "1/1 [==============================] - 0s 37ms/step\n",
      "1/1 [==============================] - 0s 29ms/step\n",
      "1/1 [==============================] - 0s 30ms/step\n",
      "1/1 [==============================] - 0s 30ms/step\n",
      "1/1 [==============================] - 0s 29ms/step\n",
      "1/1 [==============================] - 0s 30ms/step\n",
      "1/1 [==============================] - 0s 28ms/step\n",
      "1/1 [==============================] - 0s 30ms/step\n",
      "1/1 [==============================] - 0s 28ms/step\n",
      "1/1 [==============================] - 0s 28ms/step\n",
      "1/1 [==============================] - 0s 28ms/step\n",
      "1/1 [==============================] - 0s 28ms/step\n",
      "1/1 [==============================] - 0s 27ms/step\n",
      "1/1 [==============================] - 0s 28ms/step\n",
      "\u001b[1m\u001b[4mSELECTED RESUMES FOR THE Data Science:\u001b[0m\n",
      "Selected Resume: CIT_Suthirabinav_cse.pdf\n",
      "Similarity Score: 61.89%\n",
      "Email: suth24kg@gmail.com\n",
      "Phone: 9840187422\n",
      "\n",
      "Email sent to suth24kg@gmail.com successfully!\n",
      "--------------------------------------------------\n",
      "Selected Resume: CIT_Karthikeyan_AIDS.pdf\n",
      "Similarity Score: 59.14%\n",
      "Email: karthik76049@gmail.com\n",
      "Phone: 7604961497\n",
      "\n",
      "Email sent to karthik76049@gmail.com successfully!\n",
      "--------------------------------------------------\n",
      "Selected Resume: CIT_KUNAL GUPTA_CSE.pdf\n",
      "Similarity Score: 56.70%\n",
      "Email: kunalgup1709@gmail.com\n",
      "Phone: \n",
      "\n",
      "Email sent to kunalgup1709@gmail.com successfully!\n",
      "--------------------------------------------------\n",
      "Selected Resume: SSN_Vijay_Mechanical.pdf\n",
      "Similarity Score: 55.90%\n",
      "Email: vijayadarshan2010932@ssn.edu.in\n",
      "Phone: 7200850296\n",
      "\n",
      "Email sent to vijayadarshan2010932@ssn.edu.in successfully!\n",
      "--------------------------------------------------\n",
      "Selected Resume: CIT_Vijaimadhavan_CSBS.pdf\n",
      "Similarity Score: 55.54%\n",
      "Email: madhavanvijai9393@gmail.com\n",
      "Phone: 7010029018\n",
      "\n",
      "Email sent to madhavanvijai9393@gmail.com successfully!\n",
      "--------------------------------------------------\n",
      "\u001b[1m\u001b[4mREJECTED RESUMES FOR THE Data Science:\u001b[0m\n",
      "Rejected Resume: CIT_THARUN_SHANKAR_S_CSE.pdf\n",
      "Similarity Score: 50.85%\n",
      "Email: tharunsankar346@gmail.com\n",
      "Phone: 6382209718\n",
      "--------------------------------------------------\n",
      "Rejected Resume: CIT_S_Bhuvanesh_CSBS.pdf\n",
      "Similarity Score: 50.80%\n",
      "Email: bhuvaneshwar722@gmail.com\n",
      "Phone: 9176281743\n",
      "--------------------------------------------------\n",
      "Rejected Resume: CIT_SASI KUMAR A_CSE.pdf\n",
      "Similarity Score: 47.81%\n",
      "Email: sksasikumar0007@gmail.com\n",
      "Phone: 951 470 9084\n",
      "--------------------------------------------------\n",
      "Rejected Resume: CIT_MANOJ_CSBS.pdf\n",
      "Similarity Score: 44.31%\n",
      "Email: manojs.csbs2020@citchennai.net\n",
      "Phone: 9344628787\n",
      "--------------------------------------------------\n",
      "Rejected Resume: CIT_Sivaram RAJA_mech.pdf\n",
      "Similarity Score: 37.44%\n",
      "Email: sivaram20021215@gmail.com\n",
      "Phone: 8072705141\n",
      "--------------------------------------------------\n",
      "Rejected Resume: CIT_Kishanth C_CSE.pdf\n",
      "Similarity Score: 22.73%\n",
      "Email: kishanthc0@gmail.com\n",
      "Phone: 7397430860\n",
      "--------------------------------------------------\n",
      "Rejected Resume: CIT_VIJAYASREE SP_CSE.pdf\n",
      "Similarity Score: 20.30%\n",
      "Email: spvijayasreeshunmuganathan@gmail.com\n",
      "Phone: 9789933357\n",
      "--------------------------------------------------\n",
      "Rejected Resume: CIT_ASHWIN ISAAC PAUL_CSE.pdf\n",
      "Similarity Score: 2.95%\n",
      "Email: ashwin.issac@yahoo.com\n",
      "Phone: 600045\n",
      "9940\n",
      "--------------------------------------------------\n"
     ]
    }
   ],
   "source": [
    "def process_resumes_for_field(selected_field, job_description, resumes_folder, count, sender_email, sender_password, email_subject, email_message):\n",
    "    selected_resumes = []\n",
    "    rejected_resumes = []\n",
    "\n",
    "    skill_keywords = skill_keywords_dict.get(selected_field, {})\n",
    "\n",
    "    for resume_file in os.listdir(resumes_folder):\n",
    "        if resume_file.endswith(\".pdf\"):\n",
    "            resume_path = os.path.join(resumes_folder, resume_file)\n",
    "            resume_text = extract_text_from_pdf(resume_path)\n",
    "\n",
    "            resume_text = resume_text.strip().lower()\n",
    "\n",
    "            tokenizer = Tokenizer(oov_token=\"<OOV>\")\n",
    "            tokenizer.fit_on_texts([resume_text])\n",
    "            vocab_size = len(tokenizer.word_index) + 1\n",
    "            max_seq_length = 1159\n",
    "            padded_sequence = pad_sequences(tokenizer.texts_to_sequences([resume_text]), maxlen=max_seq_length, padding=\"post\")\n",
    "\n",
    "            predictions = model.predict(padded_sequence)\n",
    "\n",
    "            email, phone = extract_information(resume_text)\n",
    "\n",
    "            similarity_score = calculate_similarity(job_description, resume_text)\n",
    "\n",
    "            if len(selected_resumes) < count:\n",
    "                selected_resumes.append({\"resume_file\": resume_file, \"similarity_score\": similarity_score, \"email\": email, \"phone\": phone})\n",
    "            else:\n",
    "                min_similarity_score = min(selected_resumes, key=lambda x: x[\"similarity_score\"])[\"similarity_score\"]\n",
    "                if similarity_score > min_similarity_score:\n",
    "                    lowest_sim_index = selected_resumes.index(next(item for item in selected_resumes if item[\"similarity_score\"] == min_similarity_score))\n",
    "                    selected_resumes[lowest_sim_index] = {\"resume_file\": resume_file, \"similarity_score\": similarity_score, \"email\": email, \"phone\": phone}\n",
    "                else:\n",
    "                    rejected_resumes.append({\"resume_file\": resume_file, \"similarity_score\": similarity_score, \"email\": email, \"phone\": phone})\n",
    "\n",
    "    selected_resumes.sort(key=lambda x: x[\"similarity_score\"], reverse=True)\n",
    "    \n",
    "    rejected_resumes.sort(key=lambda x: x[\"similarity_score\"], reverse=True)\n",
    "    \n",
    "    print(f\"\\033[1m\\033[4mSELECTED RESUMES FOR THE {selected_field}:\\033[0m\")\n",
    "    for resume_info in selected_resumes:\n",
    "        resume_file = resume_info[\"resume_file\"]\n",
    "        similarity_score = resume_info[\"similarity_score\"]\n",
    "        email = resume_info[\"email\"]\n",
    "        phone = resume_info[\"phone\"]\n",
    "        \n",
    "        print(f\"Selected Resume: {resume_file}\")\n",
    "        print(f\"Similarity Score: {similarity_score * 100:.2f}%\")\n",
    "        print(\"Email:\", email)\n",
    "        print(\"Phone:\", phone)\n",
    "        print()\n",
    "        \n",
    "        send_email(sender_email, sender_password, email, email_subject, email_message)\n",
    "        \n",
    "        print(\"-\" * 50) \n",
    "\n",
    "    print(f\"\\033[1m\\033[4mREJECTED RESUMES FOR THE {selected_field}:\\033[0m\")\n",
    "    for resume_info in rejected_resumes:\n",
    "        resume_file = resume_info[\"resume_file\"]\n",
    "        similarity_score = resume_info[\"similarity_score\"]\n",
    "        email = resume_info[\"email\"]\n",
    "        phone = resume_info[\"phone\"]\n",
    "        \n",
    "        print(f\"Rejected Resume: {resume_file}\")\n",
    "        print(f\"Similarity Score: {similarity_score * 100:.2f}%\")\n",
    "        print(\"Email:\", email)\n",
    "        print(\"Phone:\", phone)\n",
    "        print(\"-\" * 50) \n",
    "        \n",
    "        \n",
    "if __name__ == \"__main__\":\n",
    "    selected_field = input(\"Select a field from [Web Developer, Data Science, Cybersecurity, Software Developer]: \")\n",
    "    job_description = input(\"Enter the job description: \")\n",
    "    resumes_folder = input(\"Enter the folder path containing resumes: \")\n",
    "    count = int(input(\"Enter the number of top matching resumes to select: \"))\n",
    "    sender_email = input(\"Enter your email address (sender): \")\n",
    "    sender_password = \"ktvp hykg nxuh iaui\"\n",
    "    email_subject = input(\"Enter the email subject: \")\n",
    "    email_message = input(\"Enter the email message: \")\n",
    "    \n",
    "    if selected_field not in skill_keywords_dict:\n",
    "        print(\"Selected field is not recognized.\")\n",
    "    else:\n",
    "        process_resumes_for_field(selected_field, job_description, resumes_folder, count, sender_email, sender_password, email_subject, email_message)"
   ]
  },
  {
   "cell_type": "markdown",
   "id": "6aa8f00f",
   "metadata": {},
   "source": [
    "<big><b>Conclusion:</b></big>\n",
    "\n",
    "In this project, I have developed a resume screening and selection system that leverages natural language processing, machine learning, and email communication to streamline the hiring process. The system demonstrates the following key functionalities:\n",
    "\n",
    "- **Resume Extraction:** I successfully extract text from PDF resumes using PyPDF2 and pdfplumber libraries, allowing for further analysis.\n",
    "\n",
    "- **Information Extraction:** I use regular expressions to identify and extract email addresses and phone numbers from resumes. Additionally, I've employed a model to predict the presence of email addresses and phone numbers.\n",
    "\n",
    "- **Text Preprocessing:** I preprocess the extracted resume text, tokenizing and cleaning it for further analysis. This step enhances the accuracy of the system's operations.\n",
    "\n",
    "- **Cosine Similarity Matching:** I calculate the cosine similarity between a job description and each resume to identify the most relevant candidates based on the skills mentioned in the job description.\n",
    "\n",
    "- **Skill-Based Resume Selection:** The system selects the top-n candidates whose resumes match the job description most closely, facilitating the shortlisting process.\n",
    "\n",
    "- **Email Communication:** I integrate email functionality to send notifications to selected candidates, streamlining the communication process with applicants.\n",
    "\n",
    "- **Adaptability:** The system can be adapted for various job fields by customizing the skill keywords and weights.\n",
    "\n",
    "In conclusion, my resume screening and selection system significantly reduces the manual effort required for identifying suitable candidates and contacting them for further evaluation. This automation not only saves time but also ensures a more efficient and standardized hiring process. I hope this project serves as a valuable tool for HR professionals and hiring managers in their recruitment endeavors.\n",
    "\n",
    "Thank you for exploring my project!\n"
   ]
  },
  {
   "cell_type": "markdown",
   "id": "98bd233a",
   "metadata": {},
   "source": [
    "# -----------------------------------------------------------------------------------------"
   ]
  }
 ],
 "metadata": {
  "kernelspec": {
   "display_name": "Python 3 (ipykernel)",
   "language": "python",
   "name": "python3"
  },
  "language_info": {
   "codemirror_mode": {
    "name": "ipython",
    "version": 3
   },
   "file_extension": ".py",
   "mimetype": "text/x-python",
   "name": "python",
   "nbconvert_exporter": "python",
   "pygments_lexer": "ipython3",
   "version": "3.10.9"
  }
 },
 "nbformat": 4,
 "nbformat_minor": 5
}
